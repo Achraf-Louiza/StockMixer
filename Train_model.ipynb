{
 "cells": [
  {
   "cell_type": "code",
   "execution_count": 1,
   "id": "c8f36a6d-d743-43a0-9e3a-5a1dcc5b3eca",
   "metadata": {},
   "outputs": [],
   "source": [
    "import numpy as np \n",
    "import torch\n",
    "import os \n",
    "import pickle\n",
    "from src.model import StockMixer\n",
    "from src.train import get_batch, validate, train"
   ]
  },
  {
   "cell_type": "code",
   "execution_count": 2,
   "id": "e82a3344-754e-45a4-b308-11652445c058",
   "metadata": {},
   "outputs": [],
   "source": [
    "np.random.seed(123456789)\n",
    "torch.random.manual_seed(12345678)\n",
    "device = torch.device(\"cuda\") if torch.cuda.is_available() else 'cpu'\n",
    "\n",
    "data_path = '../dataset'\n",
    "market_name = 'NASDAQ'\n",
    "relation_name = 'wikidata'\n",
    "stock_num = 1026\n",
    "lookback_length = 16\n",
    "epochs = 1\n",
    "valid_index = 756\n",
    "test_index = 1008\n",
    "fea_num = 5\n",
    "market_num = 20\n",
    "steps = 1\n",
    "learning_rate = 0.001\n",
    "alpha = 0.1\n",
    "scale_factor = 3\n",
    "activation = 'GELU'"
   ]
  },
  {
   "cell_type": "code",
   "execution_count": 3,
   "id": "6e378013-2af5-4c02-80e6-ae9e16f1c9d0",
   "metadata": {},
   "outputs": [],
   "source": [
    "dataset_path = 'dataset/' + market_name\n",
    "with open(os.path.join(dataset_path, \"eod_data.pkl\"), \"rb\") as f:\n",
    "    eod_data = pickle.load(f)\n",
    "with open(os.path.join(dataset_path, \"mask_data.pkl\"), \"rb\") as f:\n",
    "    mask_data = pickle.load(f)\n",
    "with open(os.path.join(dataset_path, \"gt_data.pkl\"), \"rb\") as f:\n",
    "    gt_data = pickle.load(f)\n",
    "with open(os.path.join(dataset_path, \"price_data.pkl\"), \"rb\") as f:\n",
    "    price_data = pickle.load(f)"
   ]
  },
  {
   "cell_type": "code",
   "execution_count": 4,
   "id": "d316d311-2fb5-4a4c-9ec1-2223d9895a35",
   "metadata": {},
   "outputs": [],
   "source": [
    "trade_dates = mask_data.shape[1]\n",
    "model = StockMixer(\n",
    "    stocks=stock_num,\n",
    "    time_steps=lookback_length,\n",
    "    channels=fea_num,\n",
    "    market=market_num,\n",
    "    scale=scale_factor\n",
    ").to(device)"
   ]
  },
  {
   "cell_type": "code",
   "execution_count": 5,
   "id": "dd991ed3-e6c8-498e-827b-64f55b543e90",
   "metadata": {},
   "outputs": [],
   "source": [
    "import pandas as pd\n",
    "dates = pd.read_csv('dataset/NASDAQ/dates.csv', header=None)[0].tolist()\n",
    "tickers = pd.read_csv('dataset/NASDAQ/tickers.csv', header=None)[0].tolist()"
   ]
  },
  {
   "cell_type": "code",
   "execution_count": 6,
   "id": "430bb00c-c8d2-4686-95ce-1993664da61a",
   "metadata": {},
   "outputs": [
    {
     "name": "stdout",
     "output_type": "stream",
     "text": [
      "epoch1##########################################################\n"
     ]
    },
    {
     "name": "stderr",
     "output_type": "stream",
     "text": [
      "100%|████████████████████████████████████████████████████████████████████████████████| 740/740 [00:24<00:00, 29.61it/s]\n"
     ]
    },
    {
     "name": "stdout",
     "output_type": "stream",
     "text": [
      "Train : loss:6.71e-02  =  6.70e-02 + alpha*1.38e-03\n",
      "Valid : loss:1.28e-02  =  1.27e-02 + alpha*1.03e-03\n",
      "Test: loss:6.32e-02  =  6.31e-02 + alpha*1.46e-03\n",
      "Valid performance:\n",
      " mse:1.28e-02, IC:2.72e-02, RIC:2.22e-01, prec@10:5.18e-01, SR:2.07e+00\n",
      "Test performance:\n",
      " mse:6.33e-02, IC:7.99e-03, RIC:1.09e-01, prec@10:5.04e-01, SR:7.96e-01 \n",
      "\n",
      "\n"
     ]
    },
    {
     "data": {
      "text/plain": [
       "(        prediction  ground_truth   id\n",
       " 0         0.503555     -0.055923  740\n",
       " 1         0.584760     -0.046081  740\n",
       " 2         0.622293      0.000854  740\n",
       " 3         0.624257     -0.027092  740\n",
       " 4         0.759180     -0.029208  740\n",
       " ...            ...           ...  ...\n",
       " 258547    0.697878     -0.002095  991\n",
       " 258548    0.705162     -0.037346  991\n",
       " 258549    0.750173      0.005843  991\n",
       " 258550    0.569513     -0.010418  991\n",
       " 258551    0.521542     -0.002284  991\n",
       " \n",
       " [258552 rows x 3 columns],\n",
       "         prediction  ground_truth    id\n",
       " 0         0.487662      0.005948   992\n",
       " 1         0.735221      0.009077   992\n",
       " 2         0.613335      0.002849   992\n",
       " 3         0.716638     -0.011506   992\n",
       " 4         0.679961      0.009832   992\n",
       " ...            ...           ...   ...\n",
       " 243157    0.639666      0.002228  1228\n",
       " 243158    0.627578      0.013216  1228\n",
       " 243159    0.705741      0.009115  1228\n",
       " 243160    0.835815      0.012404  1228\n",
       " 243161    0.584964      0.002363  1228\n",
       " \n",
       " [243162 rows x 3 columns])"
      ]
     },
     "execution_count": 6,
     "metadata": {},
     "output_type": "execute_result"
    }
   ],
   "source": [
    "train(model)"
   ]
  }
 ],
 "metadata": {
  "kernelspec": {
   "display_name": "Python 3 (ipykernel)",
   "language": "python",
   "name": "python3"
  },
  "language_info": {
   "codemirror_mode": {
    "name": "ipython",
    "version": 3
   },
   "file_extension": ".py",
   "mimetype": "text/x-python",
   "name": "python",
   "nbconvert_exporter": "python",
   "pygments_lexer": "ipython3",
   "version": "3.11.7"
  }
 },
 "nbformat": 4,
 "nbformat_minor": 5
}
