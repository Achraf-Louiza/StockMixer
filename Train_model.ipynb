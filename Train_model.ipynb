{
 "cells": [
  {
   "cell_type": "code",
   "execution_count": 1,
   "id": "c8f36a6d-d743-43a0-9e3a-5a1dcc5b3eca",
   "metadata": {},
   "outputs": [],
   "source": [
    "import numpy as np \n",
    "import torch\n",
    "import os \n",
    "import pickle\n",
    "from src.model import StockMixer\n",
    "from src.train import get_batch, validate, train"
   ]
  },
  {
   "cell_type": "code",
   "execution_count": 2,
   "id": "e82a3344-754e-45a4-b308-11652445c058",
   "metadata": {},
   "outputs": [],
   "source": [
    "np.random.seed(123456789)\n",
    "torch.random.manual_seed(12345678)\n",
    "device = torch.device(\"cuda\") if torch.cuda.is_available() else 'cpu'\n",
    "\n",
    "data_path = '../dataset'\n",
    "market_name = 'NASDAQ'\n",
    "relation_name = 'wikidata'\n",
    "stock_num = 1026\n",
    "lookback_length = 16\n",
    "epochs = 3\n",
    "valid_index = 756\n",
    "test_index = 1008\n",
    "fea_num = 5\n",
    "market_num = 20\n",
    "steps = 1\n",
    "learning_rate = 0.001\n",
    "alpha = 0.1\n",
    "scale_factor = 3\n",
    "activation = 'GELU'"
   ]
  },
  {
   "cell_type": "code",
   "execution_count": 3,
   "id": "6e378013-2af5-4c02-80e6-ae9e16f1c9d0",
   "metadata": {},
   "outputs": [],
   "source": [
    "dataset_path = 'dataset/' + market_name\n",
    "with open(os.path.join(dataset_path, \"eod_data.pkl\"), \"rb\") as f:\n",
    "    eod_data = pickle.load(f)\n",
    "with open(os.path.join(dataset_path, \"mask_data.pkl\"), \"rb\") as f:\n",
    "    mask_data = pickle.load(f)\n",
    "with open(os.path.join(dataset_path, \"gt_data.pkl\"), \"rb\") as f:\n",
    "    gt_data = pickle.load(f)\n",
    "with open(os.path.join(dataset_path, \"price_data.pkl\"), \"rb\") as f:\n",
    "    price_data = pickle.load(f)"
   ]
  },
  {
   "cell_type": "code",
   "execution_count": 4,
   "id": "d316d311-2fb5-4a4c-9ec1-2223d9895a35",
   "metadata": {},
   "outputs": [],
   "source": [
    "trade_dates = mask_data.shape[1]\n",
    "model = StockMixer(\n",
    "    stocks=stock_num,\n",
    "    time_steps=lookback_length,\n",
    "    channels=fea_num,\n",
    "    market=market_num,\n",
    "    scale=scale_factor\n",
    ").to(device)"
   ]
  },
  {
   "cell_type": "code",
   "execution_count": 5,
   "id": "dd991ed3-e6c8-498e-827b-64f55b543e90",
   "metadata": {},
   "outputs": [],
   "source": [
    "import pandas as pd\n",
    "dates = pd.read_csv('dataset/NASDAQ/dates.csv', header=None)[0].tolist()\n",
    "tickers = pd.read_csv('dataset/NASDAQ/tickers.csv', header=None)[0].tolist()"
   ]
  },
  {
   "cell_type": "code",
   "execution_count": null,
   "id": "430bb00c-c8d2-4686-95ce-1993664da61a",
   "metadata": {},
   "outputs": [
    {
     "name": "stdout",
     "output_type": "stream",
     "text": [
      "epoch1##########################################################\n"
     ]
    },
    {
     "name": "stderr",
     "output_type": "stream",
     "text": [
      " 12%|██████████                                                                       | 92/740 [00:03<00:21, 30.54it/s]"
     ]
    }
   ],
   "source": [
    "val_res, test_res = train(model, epochs=3)"
   ]
  },
  {
   "cell_type": "code",
   "execution_count": null,
   "id": "2d9af1b0-1c17-4aa4-bbb0-cc6df55cf2fc",
   "metadata": {},
   "outputs": [],
   "source": []
  }
 ],
 "metadata": {
  "kernelspec": {
   "display_name": "Python 3 (ipykernel)",
   "language": "python",
   "name": "python3"
  },
  "language_info": {
   "codemirror_mode": {
    "name": "ipython",
    "version": 3
   },
   "file_extension": ".py",
   "mimetype": "text/x-python",
   "name": "python",
   "nbconvert_exporter": "python",
   "pygments_lexer": "ipython3",
   "version": "3.11.7"
  }
 },
 "nbformat": 4,
 "nbformat_minor": 5
}
